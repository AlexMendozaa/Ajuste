{
  "nbformat": 4,
  "nbformat_minor": 0,
  "metadata": {
    "colab": {
      "name": "Matriz.ipynb",
      "provenance": [],
      "collapsed_sections": []
    },
    "kernelspec": {
      "name": "python3",
      "display_name": "Python 3"
    },
    "accelerator": "TPU"
  },
  "cells": [
    {
      "cell_type": "code",
      "metadata": {
        "id": "5epaIghvhHEH",
        "colab_type": "code",
        "outputId": "fe56b2a8-9fe0-44ec-e3fc-e4291f000211",
        "colab": {
          "base_uri": "https://localhost:8080/",
          "height": 68
        }
      },
      "source": [
        "import numpy as np\n",
        "\n",
        "def polyfit2(x,y,n):\n",
        "\n",
        "    def inv(A):\n",
        "        return np.linalg.inv(A) #MATRIZ INVERSA DE LA MATRIZ A\n",
        "    def trans(A):\n",
        "        return A.getT() #TRANSPUESTA DE LA MATRIZ A\n",
        "    def prod(A,B):\n",
        "        return np.dot(A,B) #PRODUCTO PUNTO ENTRE LOS VECTORES A Y B\n",
        "    \n",
        "   \n",
        "\n",
        "    xlen = len(x) #CALCULA LA LONGITUD DEL VECTOR X\n",
        "    ylen = len(y)\n",
        "    one = np.ones((xlen,n+1),dtype=int) #MATRIZ DE UNOS DE DIMENSIONES (xlen,n+1)\n",
        "    c1 = one[:,[1]] #SELECCIONAMOS SOLO LA COLUMNA 1 DE LA MATRIZ ONE\n",
        "    xT = np.matrix(x) #CONVIERTE LOS DATOS A UNA MATRIZ NUMPY\n",
        "    yT = np.matrix(y) #CONVIERTE LOS DATOS A UNA MATRIZ NUMPY\n",
        "    c2 = xT.getT()\n",
        "    c3 = np.power(c2,2) #ELEVA AL CUADRADO LOS ELEMENTOS DE LA MATRIZ c2\n",
        "    A = np.hstack([c1,c2,c3]) #AGRUPA LAS COLUMNAS c1,c2,c3 EN UNA MATRIZ A\n",
        "    ajuste = prod(prod(inv(prod(trans(A),A)),trans(A)),trans(yT)) #LA FUNCION PROD REALIZA LOS PRODUCTOS DE LAS MATRICES QUE RECIBE COMO ARGUMENTOS\n",
        "    print(ajuste)\n",
        "\n",
        "x = [1.0,-2.0,3.0,4.0] \n",
        "y = [4.0,5.0,-1.0,1.0]\n",
        "\n",
        "\n",
        "polyfit2(x,y,2)\n"
      ],
      "execution_count": 38,
      "outputs": [
        {
          "output_type": "stream",
          "text": [
            "[[ 3.75      ]\n",
            " [-0.81060606]\n",
            " [-0.03787879]]\n"
          ],
          "name": "stdout"
        }
      ]
    }
  ]
}